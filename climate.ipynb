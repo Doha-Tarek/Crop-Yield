{
 "cells": [
  {
   "cell_type": "markdown",
   "id": "1bcbdd25",
   "metadata": {},
   "source": [
    "<h1> Crop Yield Regression</h1>\n",
    "<ul>\n",
    "    <li> Import Packages\n",
    "    <li> Explore Data\n",
    "    <li> Summary Statistics\n",
    "    <li> Exploratory Data Analysis\n",
    "    <li> Data Visulization\n",
    "    <li> Feature Engineering\n",
    "    <li> Modeling"
   ]
  },
  {
   "cell_type": "markdown",
   "id": "d49c3cd9",
   "metadata": {},
   "source": [
    "<h2> Import Packages"
   ]
  },
  {
   "cell_type": "code",
   "execution_count": 1,
   "id": "49f9e1fb",
   "metadata": {},
   "outputs": [],
   "source": [
    "import pandas as pd\n",
    "import matplotlib.pyplot as plt\n",
    "import numpy as np\n",
    "import seaborn as sns"
   ]
  },
  {
   "cell_type": "markdown",
   "id": "78714708",
   "metadata": {},
   "source": [
    "<h2> Explore Data"
   ]
  },
  {
   "cell_type": "code",
   "execution_count": 2,
   "id": "323e1e63",
   "metadata": {},
   "outputs": [
    {
     "data": {
      "text/html": [
       "<div>\n",
       "<style scoped>\n",
       "    .dataframe tbody tr th:only-of-type {\n",
       "        vertical-align: middle;\n",
       "    }\n",
       "\n",
       "    .dataframe tbody tr th {\n",
       "        vertical-align: top;\n",
       "    }\n",
       "\n",
       "    .dataframe thead th {\n",
       "        text-align: right;\n",
       "    }\n",
       "</style>\n",
       "<table border=\"1\" class=\"dataframe\">\n",
       "  <thead>\n",
       "    <tr style=\"text-align: right;\">\n",
       "      <th></th>\n",
       "      <th>Area</th>\n",
       "      <th>Item</th>\n",
       "      <th>Year</th>\n",
       "      <th>average_rain_fall_mm_per_year</th>\n",
       "      <th>pesticides_tonnes</th>\n",
       "      <th>avg_temp</th>\n",
       "      <th>hg/ha_yield</th>\n",
       "    </tr>\n",
       "  </thead>\n",
       "  <tbody>\n",
       "    <tr>\n",
       "      <th>0</th>\n",
       "      <td>Albania</td>\n",
       "      <td>Maize</td>\n",
       "      <td>1990</td>\n",
       "      <td>1485</td>\n",
       "      <td>121.0</td>\n",
       "      <td>16.37</td>\n",
       "      <td>36613</td>\n",
       "    </tr>\n",
       "    <tr>\n",
       "      <th>1</th>\n",
       "      <td>Albania</td>\n",
       "      <td>Potatoes</td>\n",
       "      <td>1990</td>\n",
       "      <td>1485</td>\n",
       "      <td>121.0</td>\n",
       "      <td>16.37</td>\n",
       "      <td>66667</td>\n",
       "    </tr>\n",
       "    <tr>\n",
       "      <th>2</th>\n",
       "      <td>Albania</td>\n",
       "      <td>Rice, paddy</td>\n",
       "      <td>1990</td>\n",
       "      <td>1485</td>\n",
       "      <td>121.0</td>\n",
       "      <td>16.37</td>\n",
       "      <td>23333</td>\n",
       "    </tr>\n",
       "    <tr>\n",
       "      <th>3</th>\n",
       "      <td>Albania</td>\n",
       "      <td>Sorghum</td>\n",
       "      <td>1990</td>\n",
       "      <td>1485</td>\n",
       "      <td>121.0</td>\n",
       "      <td>16.37</td>\n",
       "      <td>12500</td>\n",
       "    </tr>\n",
       "    <tr>\n",
       "      <th>4</th>\n",
       "      <td>Albania</td>\n",
       "      <td>Soybeans</td>\n",
       "      <td>1990</td>\n",
       "      <td>1485</td>\n",
       "      <td>121.0</td>\n",
       "      <td>16.37</td>\n",
       "      <td>7000</td>\n",
       "    </tr>\n",
       "  </tbody>\n",
       "</table>\n",
       "</div>"
      ],
      "text/plain": [
       "      Area         Item  Year  average_rain_fall_mm_per_year  \\\n",
       "0  Albania        Maize  1990                           1485   \n",
       "1  Albania     Potatoes  1990                           1485   \n",
       "2  Albania  Rice, paddy  1990                           1485   \n",
       "3  Albania      Sorghum  1990                           1485   \n",
       "4  Albania     Soybeans  1990                           1485   \n",
       "\n",
       "   pesticides_tonnes  avg_temp  hg/ha_yield  \n",
       "0              121.0     16.37        36613  \n",
       "1              121.0     16.37        66667  \n",
       "2              121.0     16.37        23333  \n",
       "3              121.0     16.37        12500  \n",
       "4              121.0     16.37         7000  "
      ]
     },
     "execution_count": 2,
     "metadata": {},
     "output_type": "execute_result"
    }
   ],
   "source": [
    "df = pd.read_csv(\"climate-ds.csv\")\n",
    "df.drop(['Unnamed: 0'], axis=1 , inplace=True)\n",
    "df.head()"
   ]
  },
  {
   "cell_type": "code",
   "execution_count": 3,
   "id": "cee2d623",
   "metadata": {},
   "outputs": [
    {
     "data": {
      "text/plain": [
       "(28242, 7)"
      ]
     },
     "execution_count": 3,
     "metadata": {},
     "output_type": "execute_result"
    }
   ],
   "source": [
    "df.shape"
   ]
  },
  {
   "cell_type": "code",
   "execution_count": 4,
   "id": "dc5724a8",
   "metadata": {},
   "outputs": [
    {
     "name": "stdout",
     "output_type": "stream",
     "text": [
      "<class 'pandas.core.frame.DataFrame'>\n",
      "RangeIndex: 28242 entries, 0 to 28241\n",
      "Data columns (total 7 columns):\n",
      " #   Column                         Non-Null Count  Dtype  \n",
      "---  ------                         --------------  -----  \n",
      " 0   Area                           28242 non-null  object \n",
      " 1   Item                           28242 non-null  object \n",
      " 2   Year                           28242 non-null  int64  \n",
      " 3   average_rain_fall_mm_per_year  28242 non-null  int64  \n",
      " 4   pesticides_tonnes              28242 non-null  float64\n",
      " 5   avg_temp                       28242 non-null  float64\n",
      " 6   hg/ha_yield                    28242 non-null  int64  \n",
      "dtypes: float64(2), int64(3), object(2)\n",
      "memory usage: 1.5+ MB\n"
     ]
    }
   ],
   "source": [
    "df.info()"
   ]
  },
  {
   "cell_type": "markdown",
   "id": "a3ef9e82",
   "metadata": {},
   "source": [
    "<h2> Summary Statistics"
   ]
  },
  {
   "cell_type": "code",
   "execution_count": 5,
   "id": "66554e36",
   "metadata": {},
   "outputs": [
    {
     "data": {
      "text/html": [
       "<div>\n",
       "<style scoped>\n",
       "    .dataframe tbody tr th:only-of-type {\n",
       "        vertical-align: middle;\n",
       "    }\n",
       "\n",
       "    .dataframe tbody tr th {\n",
       "        vertical-align: top;\n",
       "    }\n",
       "\n",
       "    .dataframe thead th {\n",
       "        text-align: right;\n",
       "    }\n",
       "</style>\n",
       "<table border=\"1\" class=\"dataframe\">\n",
       "  <thead>\n",
       "    <tr style=\"text-align: right;\">\n",
       "      <th></th>\n",
       "      <th>Year</th>\n",
       "      <th>average_rain_fall_mm_per_year</th>\n",
       "      <th>pesticides_tonnes</th>\n",
       "      <th>avg_temp</th>\n",
       "      <th>hg/ha_yield</th>\n",
       "    </tr>\n",
       "  </thead>\n",
       "  <tbody>\n",
       "    <tr>\n",
       "      <th>count</th>\n",
       "      <td>28242.000000</td>\n",
       "      <td>28242.00000</td>\n",
       "      <td>28242.000000</td>\n",
       "      <td>28242.000000</td>\n",
       "      <td>28242.000000</td>\n",
       "    </tr>\n",
       "    <tr>\n",
       "      <th>mean</th>\n",
       "      <td>2001.544296</td>\n",
       "      <td>1149.05598</td>\n",
       "      <td>37076.909344</td>\n",
       "      <td>20.542627</td>\n",
       "      <td>77053.332094</td>\n",
       "    </tr>\n",
       "    <tr>\n",
       "      <th>std</th>\n",
       "      <td>7.051905</td>\n",
       "      <td>709.81215</td>\n",
       "      <td>59958.784665</td>\n",
       "      <td>6.312051</td>\n",
       "      <td>84956.612897</td>\n",
       "    </tr>\n",
       "    <tr>\n",
       "      <th>min</th>\n",
       "      <td>1990.000000</td>\n",
       "      <td>51.00000</td>\n",
       "      <td>0.040000</td>\n",
       "      <td>1.300000</td>\n",
       "      <td>50.000000</td>\n",
       "    </tr>\n",
       "    <tr>\n",
       "      <th>25%</th>\n",
       "      <td>1995.000000</td>\n",
       "      <td>593.00000</td>\n",
       "      <td>1702.000000</td>\n",
       "      <td>16.702500</td>\n",
       "      <td>19919.250000</td>\n",
       "    </tr>\n",
       "    <tr>\n",
       "      <th>50%</th>\n",
       "      <td>2001.000000</td>\n",
       "      <td>1083.00000</td>\n",
       "      <td>17529.440000</td>\n",
       "      <td>21.510000</td>\n",
       "      <td>38295.000000</td>\n",
       "    </tr>\n",
       "    <tr>\n",
       "      <th>75%</th>\n",
       "      <td>2008.000000</td>\n",
       "      <td>1668.00000</td>\n",
       "      <td>48687.880000</td>\n",
       "      <td>26.000000</td>\n",
       "      <td>104676.750000</td>\n",
       "    </tr>\n",
       "    <tr>\n",
       "      <th>max</th>\n",
       "      <td>2013.000000</td>\n",
       "      <td>3240.00000</td>\n",
       "      <td>367778.000000</td>\n",
       "      <td>30.650000</td>\n",
       "      <td>501412.000000</td>\n",
       "    </tr>\n",
       "  </tbody>\n",
       "</table>\n",
       "</div>"
      ],
      "text/plain": [
       "               Year  average_rain_fall_mm_per_year  pesticides_tonnes  \\\n",
       "count  28242.000000                    28242.00000       28242.000000   \n",
       "mean    2001.544296                     1149.05598       37076.909344   \n",
       "std        7.051905                      709.81215       59958.784665   \n",
       "min     1990.000000                       51.00000           0.040000   \n",
       "25%     1995.000000                      593.00000        1702.000000   \n",
       "50%     2001.000000                     1083.00000       17529.440000   \n",
       "75%     2008.000000                     1668.00000       48687.880000   \n",
       "max     2013.000000                     3240.00000      367778.000000   \n",
       "\n",
       "           avg_temp    hg/ha_yield  \n",
       "count  28242.000000   28242.000000  \n",
       "mean      20.542627   77053.332094  \n",
       "std        6.312051   84956.612897  \n",
       "min        1.300000      50.000000  \n",
       "25%       16.702500   19919.250000  \n",
       "50%       21.510000   38295.000000  \n",
       "75%       26.000000  104676.750000  \n",
       "max       30.650000  501412.000000  "
      ]
     },
     "execution_count": 5,
     "metadata": {},
     "output_type": "execute_result"
    }
   ],
   "source": [
    "df.describe()"
   ]
  },
  {
   "cell_type": "code",
   "execution_count": 6,
   "id": "a19e4153",
   "metadata": {},
   "outputs": [
    {
     "data": {
      "text/plain": [
       "101"
      ]
     },
     "execution_count": 6,
     "metadata": {},
     "output_type": "execute_result"
    }
   ],
   "source": [
    "df['Area'].nunique()"
   ]
  },
  {
   "cell_type": "code",
   "execution_count": 7,
   "id": "b08db077",
   "metadata": {},
   "outputs": [
    {
     "data": {
      "text/plain": [
       "10"
      ]
     },
     "execution_count": 7,
     "metadata": {},
     "output_type": "execute_result"
    }
   ],
   "source": [
    "df['Item'].nunique()"
   ]
  },
  {
   "cell_type": "code",
   "execution_count": 8,
   "id": "a4d345e5",
   "metadata": {},
   "outputs": [
    {
     "data": {
      "text/plain": [
       "array([1990, 1991, 1992, 1993, 1994, 1995, 1996, 1997, 1998, 1999, 2000,\n",
       "       2001, 2002, 2004, 2005, 2006, 2007, 2008, 2009, 2010, 2011, 2012,\n",
       "       2013], dtype=int64)"
      ]
     },
     "execution_count": 8,
     "metadata": {},
     "output_type": "execute_result"
    }
   ],
   "source": [
    "df['Year'].unique() "
   ]
  },
  {
   "cell_type": "markdown",
   "id": "49a2901b",
   "metadata": {},
   "source": [
    "<h2> Exploratory Data Analysis"
   ]
  },
  {
   "cell_type": "markdown",
   "id": "34d7849f",
   "metadata": {},
   "source": [
    "<h4> QUESTIONS </h4>\n",
    "<ol>\n",
    "    <li> What is the highest production rate?\n",
    "    <li> What is the lowest production rate?\n",
    "    <li> What are the areas with the highest and lowest production rate?\n",
    "    <li> What are the Years with the highest and lowest production rate?\n",
    "    <li> What are the areas with the highest and lowest Temperature?\n",
    "    <li> What are the areas with the highest and lowest Temperature?\n",
    "    <li> What are the least and most productive crops?\n",
    "    <li> What are the areas with the highest and lowest rainfall?\n",
    "    <li> Does temperature affect the rate of production?\n",
    "    <li> Does rainfall affect production?"
   ]
  },
  {
   "cell_type": "code",
   "execution_count": 9,
   "id": "056725d2",
   "metadata": {},
   "outputs": [
    {
     "data": {
      "text/plain": [
       "amax    501412\n",
       "amin        50\n",
       "Name: hg/ha_yield, dtype: int64"
      ]
     },
     "execution_count": 9,
     "metadata": {},
     "output_type": "execute_result"
    }
   ],
   "source": [
    "# The highest and the lowest production rate\n",
    "df['hg/ha_yield'].agg([np.max , np.min])"
   ]
  },
  {
   "cell_type": "code",
   "execution_count": 10,
   "id": "07aea60c",
   "metadata": {},
   "outputs": [
    {
     "data": {
      "text/plain": [
       "2470    Belgium\n",
       "Name: Area, dtype: object"
      ]
     },
     "execution_count": 10,
     "metadata": {},
     "output_type": "execute_result"
    }
   ],
   "source": [
    "# Area with highest production rate\n",
    "df[df['hg/ha_yield'] == df['hg/ha_yield'].max() ]['Area']"
   ]
  },
  {
   "cell_type": "code",
   "execution_count": 11,
   "id": "bdd5690c",
   "metadata": {},
   "outputs": [
    {
     "data": {
      "text/plain": [
       "26174    Tajikistan\n",
       "Name: Area, dtype: object"
      ]
     },
     "execution_count": 11,
     "metadata": {},
     "output_type": "execute_result"
    }
   ],
   "source": [
    "# Area with lowest production rate\n",
    "df[df['hg/ha_yield'] == df['hg/ha_yield'].min() ] ['Area']"
   ]
  },
  {
   "cell_type": "code",
   "execution_count": 12,
   "id": "0cd19771",
   "metadata": {},
   "outputs": [
    {
     "data": {
      "text/plain": [
       "2470    2011\n",
       "Name: Year, dtype: int64"
      ]
     },
     "execution_count": 12,
     "metadata": {},
     "output_type": "execute_result"
    }
   ],
   "source": [
    "# Year with highest production rate\n",
    "df[df['hg/ha_yield'] == df['hg/ha_yield'].max() ]['Year']"
   ]
  },
  {
   "cell_type": "code",
   "execution_count": 13,
   "id": "39d26d44",
   "metadata": {},
   "outputs": [
    {
     "data": {
      "text/plain": [
       "26174    1992\n",
       "Name: Year, dtype: int64"
      ]
     },
     "execution_count": 13,
     "metadata": {},
     "output_type": "execute_result"
    }
   ],
   "source": [
    "# Year with lowest production rate\n",
    "df[df['hg/ha_yield'] == df['hg/ha_yield'].min() ] ['Year']"
   ]
  },
  {
   "cell_type": "code",
   "execution_count": 14,
   "id": "2105cf53",
   "metadata": {},
   "outputs": [
    {
     "data": {
      "text/plain": [
       "Area\n",
       "Sudan    30.65\n",
       "Name: avg_temp, dtype: float64"
      ]
     },
     "execution_count": 14,
     "metadata": {},
     "output_type": "execute_result"
    }
   ],
   "source": [
    "# Area with highest Temperature\n",
    "#df[df['avg_temp'] == df['avg_temp'].max()]\n",
    "df.groupby('Area')['avg_temp'].max().sort_values(ascending = False).head(1)"
   ]
  },
  {
   "cell_type": "code",
   "execution_count": 15,
   "id": "03306f84",
   "metadata": {},
   "outputs": [
    {
     "data": {
      "text/plain": [
       "Area\n",
       "Norway    4.55\n",
       "Name: avg_temp, dtype: float64"
      ]
     },
     "execution_count": 15,
     "metadata": {},
     "output_type": "execute_result"
    }
   ],
   "source": [
    "# Area with lowest Temperature\n",
    "#df[df['avg_temp'] == df['avg_temp'].min()]\n",
    "df.groupby('Area')['avg_temp'].max().sort_values(ascending = True).head(1)"
   ]
  },
  {
   "cell_type": "code",
   "execution_count": 16,
   "id": "fb56afd5",
   "metadata": {},
   "outputs": [
    {
     "data": {
      "text/plain": [
       "2470    Potatoes\n",
       "Name: Item, dtype: object"
      ]
     },
     "execution_count": 16,
     "metadata": {},
     "output_type": "execute_result"
    }
   ],
   "source": [
    "# The most productive crop\n",
    "df[df['hg/ha_yield'] == df['hg/ha_yield'].max() ]['Item']"
   ]
  },
  {
   "cell_type": "code",
   "execution_count": 17,
   "id": "90aac082",
   "metadata": {},
   "outputs": [
    {
     "data": {
      "text/plain": [
       "26174    Soybeans\n",
       "Name: Item, dtype: object"
      ]
     },
     "execution_count": 17,
     "metadata": {},
     "output_type": "execute_result"
    }
   ],
   "source": [
    "# The least productive crop\n",
    "df[df['hg/ha_yield'] == df['hg/ha_yield'].min() ]['Item']"
   ]
  },
  {
   "cell_type": "code",
   "execution_count": 18,
   "id": "4a903b22",
   "metadata": {},
   "outputs": [
    {
     "data": {
      "text/plain": [
       "Area\n",
       "Colombia    3240\n",
       "Name: average_rain_fall_mm_per_year, dtype: int64"
      ]
     },
     "execution_count": 18,
     "metadata": {},
     "output_type": "execute_result"
    }
   ],
   "source": [
    "# Area with highest rainfall\n",
    "#df[df['average_rain_fall_mm_per_year'] == df['average_rain_fall_mm_per_year'].max()]\n",
    "df.groupby('Area')['average_rain_fall_mm_per_year'].max().sort_values(ascending = False).head(1)"
   ]
  },
  {
   "cell_type": "code",
   "execution_count": 19,
   "id": "31a2215a",
   "metadata": {},
   "outputs": [
    {
     "data": {
      "text/plain": [
       "Area\n",
       "Egypt    51\n",
       "Name: average_rain_fall_mm_per_year, dtype: int64"
      ]
     },
     "execution_count": 19,
     "metadata": {},
     "output_type": "execute_result"
    }
   ],
   "source": [
    "# Area with lowest rainfall\n",
    "#df[df['average_rain_fall_mm_per_year'] == df['average_rain_fall_mm_per_year'].min()]\n",
    "df.groupby('Area')['average_rain_fall_mm_per_year'].min().sort_values(ascending = True).head(1)"
   ]
  },
  {
   "cell_type": "markdown",
   "id": "e54d0fc2",
   "metadata": {},
   "source": [
    "\n",
    "\n",
    "<h5> Lets answer question number 9 with two techniques </h5>\n",
    "\n",
    "<ul>\n",
    "    <li> Using Pearson Correlation Coefficient \n",
    "    <li> Using scatter plot\n",
    " \n"
   ]
  },
  {
   "cell_type": "code",
   "execution_count": 20,
   "id": "49e36021",
   "metadata": {},
   "outputs": [
    {
     "data": {
      "text/html": [
       "<div>\n",
       "<style scoped>\n",
       "    .dataframe tbody tr th:only-of-type {\n",
       "        vertical-align: middle;\n",
       "    }\n",
       "\n",
       "    .dataframe tbody tr th {\n",
       "        vertical-align: top;\n",
       "    }\n",
       "\n",
       "    .dataframe thead th {\n",
       "        text-align: right;\n",
       "    }\n",
       "</style>\n",
       "<table border=\"1\" class=\"dataframe\">\n",
       "  <thead>\n",
       "    <tr style=\"text-align: right;\">\n",
       "      <th></th>\n",
       "      <th>avg_temp</th>\n",
       "      <th>hg/ha_yield</th>\n",
       "    </tr>\n",
       "  </thead>\n",
       "  <tbody>\n",
       "    <tr>\n",
       "      <th>avg_temp</th>\n",
       "      <td>1.000000</td>\n",
       "      <td>-0.114777</td>\n",
       "    </tr>\n",
       "    <tr>\n",
       "      <th>hg/ha_yield</th>\n",
       "      <td>-0.114777</td>\n",
       "      <td>1.000000</td>\n",
       "    </tr>\n",
       "  </tbody>\n",
       "</table>\n",
       "</div>"
      ],
      "text/plain": [
       "             avg_temp  hg/ha_yield\n",
       "avg_temp     1.000000    -0.114777\n",
       "hg/ha_yield -0.114777     1.000000"
      ]
     },
     "execution_count": 20,
     "metadata": {},
     "output_type": "execute_result"
    }
   ],
   "source": [
    "df_temp_prod = df[['avg_temp' , 'hg/ha_yield']]\n",
    "df_temp_prod.corr(method = 'pearson')"
   ]
  },
  {
   "cell_type": "code",
   "execution_count": 21,
   "id": "f9e22867",
   "metadata": {},
   "outputs": [
    {
     "data": {
      "image/png": "[encoded data removed]",
      "text/plain": [
       "<Figure size 432x288 with 1 Axes>"
      ]
     },
     "metadata": {
      "needs_background": "light"
     },
     "output_type": "display_data"
    }
   ],
   "source": [
    "plt.scatter(x= 'avg_temp' , y= 'hg/ha_yield' , data = df)\n",
    "plt.show()"
   ]
  },
  {
   "cell_type": "markdown",
   "id": "ea9a552f",
   "metadata": {},
   "source": [
    "\n",
    "<h5> Lets answer question number 10 with two techniques </h5>\n",
    "\n",
    "<ul>\n",
    "    <li> Using Pearson Correlation Coefficient \n",
    "    <li> Using scatter plot"
   ]
  },
  {
   "cell_type": "code",
   "execution_count": 22,
   "id": "80b3ad58",
   "metadata": {},
   "outputs": [
    {
     "data": {
      "text/html": [
       "<div>\n",
       "<style scoped>\n",
       "    .dataframe tbody tr th:only-of-type {\n",
       "        vertical-align: middle;\n",
       "    }\n",
       "\n",
       "    .dataframe tbody tr th {\n",
       "        vertical-align: top;\n",
       "    }\n",
       "\n",
       "    .dataframe thead th {\n",
       "        text-align: right;\n",
       "    }\n",
       "</style>\n",
       "<table border=\"1\" class=\"dataframe\">\n",
       "  <thead>\n",
       "    <tr style=\"text-align: right;\">\n",
       "      <th></th>\n",
       "      <th>average_rain_fall_mm_per_year</th>\n",
       "      <th>hg/ha_yield</th>\n",
       "    </tr>\n",
       "  </thead>\n",
       "  <tbody>\n",
       "    <tr>\n",
       "      <th>average_rain_fall_mm_per_year</th>\n",
       "      <td>1.000000</td>\n",
       "      <td>0.000962</td>\n",
       "    </tr>\n",
       "    <tr>\n",
       "      <th>hg/ha_yield</th>\n",
       "      <td>0.000962</td>\n",
       "      <td>1.000000</td>\n",
       "    </tr>\n",
       "  </tbody>\n",
       "</table>\n",
       "</div>"
      ],
      "text/plain": [
       "                               average_rain_fall_mm_per_year  hg/ha_yield\n",
       "average_rain_fall_mm_per_year                       1.000000     0.000962\n",
       "hg/ha_yield                                         0.000962     1.000000"
      ]
     },
     "execution_count": 22,
     "metadata": {},
     "output_type": "execute_result"
    }
   ],
   "source": [
    "df_rain_prod = df[['average_rain_fall_mm_per_year' , 'hg/ha_yield']]\n",
    "df_rain_prod.corr(method = 'pearson')"
   ]
  },
  {
   "cell_type": "code",
   "execution_count": 23,
   "id": "567e7a24",
   "metadata": {},
   "outputs": [
    {
     "data": {
      "image/png": "[encoded data removed]",
      "text/plain": [
       "<Figure size 432x288 with 1 Axes>"
      ]
     },
     "metadata": {
      "needs_background": "light"
     },
     "output_type": "display_data"
    }
   ],
   "source": [
    "plt.scatter(x = 'average_rain_fall_mm_per_year' , y= 'hg/ha_yield' , data = df)\n",
    "plt.show()"
   ]
  },
  {
   "cell_type": "markdown",
   "id": "951482e6",
   "metadata": {},
   "source": [
    "<h2> Data Visulization"
   ]
  },
  {
   "cell_type": "code",
   "execution_count": 24,
   "id": "51066948",
   "metadata": {},
   "outputs": [
    {
     "data": {
      "image/png": "[encoded data removed]",
      "text/plain": [
       "<Figure size 432x288 with 1 Axes>"
      ]
     },
     "metadata": {
      "needs_background": "light"
     },
     "output_type": "display_data"
    }
   ],
   "source": [
    "df['hg/ha_yield'].hist()\n",
    "plt.show()"
   ]
  },
  {
   "cell_type": "code",
   "execution_count": 25,
   "id": "42ed0f9b",
   "metadata": {},
   "outputs": [
    {
     "data": {
      "image/png": "[encoded data removed]",
      "text/plain": [
       "<Figure size 432x288 with 1 Axes>"
      ]
     },
     "metadata": {
      "needs_background": "light"
     },
     "output_type": "display_data"
    }
   ],
   "source": [
    "df['avg_temp'].hist()\n",
    "plt.show()"
   ]
  },
  {
   "cell_type": "code",
   "execution_count": 26,
   "id": "cc50aef4",
   "metadata": {},
   "outputs": [
    {
     "data": {
      "text/plain": [
       "<AxesSubplot:>"
      ]
     },
     "execution_count": 26,
     "metadata": {},
     "output_type": "execute_result"
    },
    {
     "data": {
      "image/png": "[encoded data removed]",
      "text/plain": [
       "<Figure size 432x288 with 1 Axes>"
      ]
     },
     "metadata": {
      "needs_background": "light"
     },
     "output_type": "display_data"
    }
   ],
   "source": [
    "df['average_rain_fall_mm_per_year'].hist()"
   ]
  },
  {
   "cell_type": "code",
   "execution_count": 27,
   "id": "68e8aa30",
   "metadata": {},
   "outputs": [
    {
     "data": {
      "image/png": "[encoded data removed]",
      "text/plain": [
       "<Figure size 432x288 with 1 Axes>"
      ]
     },
     "metadata": {
      "needs_background": "light"
     },
     "output_type": "display_data"
    }
   ],
   "source": [
    "df['pesticides_tonnes'].hist()\n",
    "plt.show()"
   ]
  },
  {
   "cell_type": "code",
   "execution_count": 28,
   "id": "32f8ff12",
   "metadata": {},
   "outputs": [
    {
     "data": {
      "image/png": "[encoded data removed]",
      "text/plain": [
       "<Figure size 432x288 with 1 Axes>"
      ]
     },
     "metadata": {},
     "output_type": "display_data"
    }
   ],
   "source": [
    "df['Area'].value_counts()[:3].plot(kind='pie')\n",
    "plt.show()"
   ]
  },
  {
   "cell_type": "code",
   "execution_count": 29,
   "id": "18abe5c2",
   "metadata": {},
   "outputs": [
    {
     "data": {
      "image/png": "[encoded data removed]",
      "text/plain": [
       "<Figure size 432x288 with 1 Axes>"
      ]
     },
     "metadata": {},
     "output_type": "display_data"
    }
   ],
   "source": [
    "df['Item'].value_counts()[:5].plot(kind='pie')\n",
    "plt.show()"
   ]
  },
  {
   "cell_type": "code",
   "execution_count": 30,
   "id": "828e9c7f",
   "metadata": {},
   "outputs": [
    {
     "data": {
      "image/png": "[encoded data removed]",
      "text/plain": [
       "<Figure size 432x288 with 2 Axes>"
      ]
     },
     "metadata": {
      "needs_background": "light"
     },
     "output_type": "display_data"
    }
   ],
   "source": [
    "sns.heatmap(df.corr())\n",
    "plt.show()"
   ]
  },
  {
   "cell_type": "markdown",
   "id": "1bbd8c52",
   "metadata": {},
   "source": [
    "<h2> Feature Engineering"
   ]
  },
  {
   "cell_type": "code",
   "execution_count": 31,
   "id": "5233b1c9",
   "metadata": {},
   "outputs": [
    {
     "data": {
      "text/html": [
       "<div>\n",
       "<style scoped>\n",
       "    .dataframe tbody tr th:only-of-type {\n",
       "        vertical-align: middle;\n",
       "    }\n",
       "\n",
       "    .dataframe tbody tr th {\n",
       "        vertical-align: top;\n",
       "    }\n",
       "\n",
       "    .dataframe thead th {\n",
       "        text-align: right;\n",
       "    }\n",
       "</style>\n",
       "<table border=\"1\" class=\"dataframe\">\n",
       "  <thead>\n",
       "    <tr style=\"text-align: right;\">\n",
       "      <th></th>\n",
       "      <th>Year</th>\n",
       "      <th>average_rain_fall_mm_per_year</th>\n",
       "      <th>pesticides_tonnes</th>\n",
       "      <th>avg_temp</th>\n",
       "      <th>hg/ha_yield</th>\n",
       "      <th>Area_Albania</th>\n",
       "      <th>Area_Algeria</th>\n",
       "      <th>Area_Angola</th>\n",
       "      <th>Area_Argentina</th>\n",
       "      <th>Area_Armenia</th>\n",
       "      <th>...</th>\n",
       "      <th>Item_Cassava</th>\n",
       "      <th>Item_Maize</th>\n",
       "      <th>Item_Plantains and others</th>\n",
       "      <th>Item_Potatoes</th>\n",
       "      <th>Item_Rice, paddy</th>\n",
       "      <th>Item_Sorghum</th>\n",
       "      <th>Item_Soybeans</th>\n",
       "      <th>Item_Sweet potatoes</th>\n",
       "      <th>Item_Wheat</th>\n",
       "      <th>Item_Yams</th>\n",
       "    </tr>\n",
       "  </thead>\n",
       "  <tbody>\n",
       "    <tr>\n",
       "      <th>0</th>\n",
       "      <td>1990</td>\n",
       "      <td>1485</td>\n",
       "      <td>121.0</td>\n",
       "      <td>16.37</td>\n",
       "      <td>36613</td>\n",
       "      <td>1</td>\n",
       "      <td>0</td>\n",
       "      <td>0</td>\n",
       "      <td>0</td>\n",
       "      <td>0</td>\n",
       "      <td>...</td>\n",
       "      <td>0</td>\n",
       "      <td>1</td>\n",
       "      <td>0</td>\n",
       "      <td>0</td>\n",
       "      <td>0</td>\n",
       "      <td>0</td>\n",
       "      <td>0</td>\n",
       "      <td>0</td>\n",
       "      <td>0</td>\n",
       "      <td>0</td>\n",
       "    </tr>\n",
       "    <tr>\n",
       "      <th>1</th>\n",
       "      <td>1990</td>\n",
       "      <td>1485</td>\n",
       "      <td>121.0</td>\n",
       "      <td>16.37</td>\n",
       "      <td>66667</td>\n",
       "      <td>1</td>\n",
       "      <td>0</td>\n",
       "      <td>0</td>\n",
       "      <td>0</td>\n",
       "      <td>0</td>\n",
       "      <td>...</td>\n",
       "      <td>0</td>\n",
       "      <td>0</td>\n",
       "      <td>0</td>\n",
       "      <td>1</td>\n",
       "      <td>0</td>\n",
       "      <td>0</td>\n",
       "      <td>0</td>\n",
       "      <td>0</td>\n",
       "      <td>0</td>\n",
       "      <td>0</td>\n",
       "    </tr>\n",
       "    <tr>\n",
       "      <th>2</th>\n",
       "      <td>1990</td>\n",
       "      <td>1485</td>\n",
       "      <td>121.0</td>\n",
       "      <td>16.37</td>\n",
       "      <td>23333</td>\n",
       "      <td>1</td>\n",
       "      <td>0</td>\n",
       "      <td>0</td>\n",
       "      <td>0</td>\n",
       "      <td>0</td>\n",
       "      <td>...</td>\n",
       "      <td>0</td>\n",
       "      <td>0</td>\n",
       "      <td>0</td>\n",
       "      <td>0</td>\n",
       "      <td>1</td>\n",
       "      <td>0</td>\n",
       "      <td>0</td>\n",
       "      <td>0</td>\n",
       "      <td>0</td>\n",
       "      <td>0</td>\n",
       "    </tr>\n",
       "    <tr>\n",
       "      <th>3</th>\n",
       "      <td>1990</td>\n",
       "      <td>1485</td>\n",
       "      <td>121.0</td>\n",
       "      <td>16.37</td>\n",
       "      <td>12500</td>\n",
       "      <td>1</td>\n",
       "      <td>0</td>\n",
       "      <td>0</td>\n",
       "      <td>0</td>\n",
       "      <td>0</td>\n",
       "      <td>...</td>\n",
       "      <td>0</td>\n",
       "      <td>0</td>\n",
       "      <td>0</td>\n",
       "      <td>0</td>\n",
       "      <td>0</td>\n",
       "      <td>1</td>\n",
       "      <td>0</td>\n",
       "      <td>0</td>\n",
       "      <td>0</td>\n",
       "      <td>0</td>\n",
       "    </tr>\n",
       "    <tr>\n",
       "      <th>4</th>\n",
       "      <td>1990</td>\n",
       "      <td>1485</td>\n",
       "      <td>121.0</td>\n",
       "      <td>16.37</td>\n",
       "      <td>7000</td>\n",
       "      <td>1</td>\n",
       "      <td>0</td>\n",
       "      <td>0</td>\n",
       "      <td>0</td>\n",
       "      <td>0</td>\n",
       "      <td>...</td>\n",
       "      <td>0</td>\n",
       "      <td>0</td>\n",
       "      <td>0</td>\n",
       "      <td>0</td>\n",
       "      <td>0</td>\n",
       "      <td>0</td>\n",
       "      <td>1</td>\n",
       "      <td>0</td>\n",
       "      <td>0</td>\n",
       "      <td>0</td>\n",
       "    </tr>\n",
       "  </tbody>\n",
       "</table>\n",
       "<p>5 rows × 116 columns</p>\n",
       "</div>"
      ],
      "text/plain": [
       "   Year  average_rain_fall_mm_per_year  pesticides_tonnes  avg_temp  \\\n",
       "0  1990                           1485              121.0     16.37   \n",
       "1  1990                           1485              121.0     16.37   \n",
       "2  1990                           1485              121.0     16.37   \n",
       "3  1990                           1485              121.0     16.37   \n",
       "4  1990                           1485              121.0     16.37   \n",
       "\n",
       "   hg/ha_yield  Area_Albania  Area_Algeria  Area_Angola  Area_Argentina  \\\n",
       "0        36613             1             0            0               0   \n",
       "1        66667             1             0            0               0   \n",
       "2        23333             1             0            0               0   \n",
       "3        12500             1             0            0               0   \n",
       "4         7000             1             0            0               0   \n",
       "\n",
       "   Area_Armenia  ...  Item_Cassava  Item_Maize  Item_Plantains and others  \\\n",
       "0             0  ...             0           1                          0   \n",
       "1             0  ...             0           0                          0   \n",
       "2             0  ...             0           0                          0   \n",
       "3             0  ...             0           0                          0   \n",
       "4             0  ...             0           0                          0   \n",
       "\n",
       "   Item_Potatoes  Item_Rice, paddy  Item_Sorghum  Item_Soybeans  \\\n",
       "0              0                 0             0              0   \n",
       "1              1                 0             0              0   \n",
       "2              0                 1             0              0   \n",
       "3              0                 0             1              0   \n",
       "4              0                 0             0              1   \n",
       "\n",
       "   Item_Sweet potatoes  Item_Wheat  Item_Yams  \n",
       "0                    0           0          0  \n",
       "1                    0           0          0  \n",
       "2                    0           0          0  \n",
       "3                    0           0          0  \n",
       "4                    0           0          0  \n",
       "\n",
       "[5 rows x 116 columns]"
      ]
     },
     "execution_count": 31,
     "metadata": {},
     "output_type": "execute_result"
    }
   ],
   "source": [
    "df_ohe = pd.get_dummies(df, columns=['Area',\"Item\"])\n",
    "df_ohe.head()"
   ]
  },
  {
   "cell_type": "code",
   "execution_count": 32,
   "id": "10424714",
   "metadata": {},
   "outputs": [
    {
     "data": {
      "text/html": [
       "<div>\n",
       "<style scoped>\n",
       "    .dataframe tbody tr th:only-of-type {\n",
       "        vertical-align: middle;\n",
       "    }\n",
       "\n",
       "    .dataframe tbody tr th {\n",
       "        vertical-align: top;\n",
       "    }\n",
       "\n",
       "    .dataframe thead th {\n",
       "        text-align: right;\n",
       "    }\n",
       "</style>\n",
       "<table border=\"1\" class=\"dataframe\">\n",
       "  <thead>\n",
       "    <tr style=\"text-align: right;\">\n",
       "      <th></th>\n",
       "      <th>Year</th>\n",
       "      <th>average_rain_fall_mm_per_year</th>\n",
       "      <th>pesticides_tonnes</th>\n",
       "      <th>avg_temp</th>\n",
       "      <th>hg/ha_yield</th>\n",
       "      <th>Area_Albania</th>\n",
       "      <th>Area_Algeria</th>\n",
       "      <th>Area_Angola</th>\n",
       "      <th>Area_Argentina</th>\n",
       "      <th>Area_Armenia</th>\n",
       "      <th>...</th>\n",
       "      <th>Item_Cassava</th>\n",
       "      <th>Item_Maize</th>\n",
       "      <th>Item_Plantains and others</th>\n",
       "      <th>Item_Potatoes</th>\n",
       "      <th>Item_Rice, paddy</th>\n",
       "      <th>Item_Sorghum</th>\n",
       "      <th>Item_Soybeans</th>\n",
       "      <th>Item_Sweet potatoes</th>\n",
       "      <th>Item_Wheat</th>\n",
       "      <th>Item_Yams</th>\n",
       "    </tr>\n",
       "  </thead>\n",
       "  <tbody>\n",
       "    <tr>\n",
       "      <th>0</th>\n",
       "      <td>-1.637075</td>\n",
       "      <td>0.473294</td>\n",
       "      <td>-0.616366</td>\n",
       "      <td>-0.661069</td>\n",
       "      <td>36613</td>\n",
       "      <td>1</td>\n",
       "      <td>0</td>\n",
       "      <td>0</td>\n",
       "      <td>0</td>\n",
       "      <td>0</td>\n",
       "      <td>...</td>\n",
       "      <td>0</td>\n",
       "      <td>1</td>\n",
       "      <td>0</td>\n",
       "      <td>0</td>\n",
       "      <td>0</td>\n",
       "      <td>0</td>\n",
       "      <td>0</td>\n",
       "      <td>0</td>\n",
       "      <td>0</td>\n",
       "      <td>0</td>\n",
       "    </tr>\n",
       "    <tr>\n",
       "      <th>1</th>\n",
       "      <td>-1.637075</td>\n",
       "      <td>0.473294</td>\n",
       "      <td>-0.616366</td>\n",
       "      <td>-0.661069</td>\n",
       "      <td>66667</td>\n",
       "      <td>1</td>\n",
       "      <td>0</td>\n",
       "      <td>0</td>\n",
       "      <td>0</td>\n",
       "      <td>0</td>\n",
       "      <td>...</td>\n",
       "      <td>0</td>\n",
       "      <td>0</td>\n",
       "      <td>0</td>\n",
       "      <td>1</td>\n",
       "      <td>0</td>\n",
       "      <td>0</td>\n",
       "      <td>0</td>\n",
       "      <td>0</td>\n",
       "      <td>0</td>\n",
       "      <td>0</td>\n",
       "    </tr>\n",
       "    <tr>\n",
       "      <th>2</th>\n",
       "      <td>-1.637075</td>\n",
       "      <td>0.473294</td>\n",
       "      <td>-0.616366</td>\n",
       "      <td>-0.661069</td>\n",
       "      <td>23333</td>\n",
       "      <td>1</td>\n",
       "      <td>0</td>\n",
       "      <td>0</td>\n",
       "      <td>0</td>\n",
       "      <td>0</td>\n",
       "      <td>...</td>\n",
       "      <td>0</td>\n",
       "      <td>0</td>\n",
       "      <td>0</td>\n",
       "      <td>0</td>\n",
       "      <td>1</td>\n",
       "      <td>0</td>\n",
       "      <td>0</td>\n",
       "      <td>0</td>\n",
       "      <td>0</td>\n",
       "      <td>0</td>\n",
       "    </tr>\n",
       "    <tr>\n",
       "      <th>3</th>\n",
       "      <td>-1.637075</td>\n",
       "      <td>0.473294</td>\n",
       "      <td>-0.616366</td>\n",
       "      <td>-0.661069</td>\n",
       "      <td>12500</td>\n",
       "      <td>1</td>\n",
       "      <td>0</td>\n",
       "      <td>0</td>\n",
       "      <td>0</td>\n",
       "      <td>0</td>\n",
       "      <td>...</td>\n",
       "      <td>0</td>\n",
       "      <td>0</td>\n",
       "      <td>0</td>\n",
       "      <td>0</td>\n",
       "      <td>0</td>\n",
       "      <td>1</td>\n",
       "      <td>0</td>\n",
       "      <td>0</td>\n",
       "      <td>0</td>\n",
       "      <td>0</td>\n",
       "    </tr>\n",
       "    <tr>\n",
       "      <th>4</th>\n",
       "      <td>-1.637075</td>\n",
       "      <td>0.473294</td>\n",
       "      <td>-0.616366</td>\n",
       "      <td>-0.661069</td>\n",
       "      <td>7000</td>\n",
       "      <td>1</td>\n",
       "      <td>0</td>\n",
       "      <td>0</td>\n",
       "      <td>0</td>\n",
       "      <td>0</td>\n",
       "      <td>...</td>\n",
       "      <td>0</td>\n",
       "      <td>0</td>\n",
       "      <td>0</td>\n",
       "      <td>0</td>\n",
       "      <td>0</td>\n",
       "      <td>0</td>\n",
       "      <td>1</td>\n",
       "      <td>0</td>\n",
       "      <td>0</td>\n",
       "      <td>0</td>\n",
       "    </tr>\n",
       "  </tbody>\n",
       "</table>\n",
       "<p>5 rows × 116 columns</p>\n",
       "</div>"
      ],
      "text/plain": [
       "       Year  average_rain_fall_mm_per_year  pesticides_tonnes  avg_temp  \\\n",
       "0 -1.637075                       0.473294          -0.616366 -0.661069   \n",
       "1 -1.637075                       0.473294          -0.616366 -0.661069   \n",
       "2 -1.637075                       0.473294          -0.616366 -0.661069   \n",
       "3 -1.637075                       0.473294          -0.616366 -0.661069   \n",
       "4 -1.637075                       0.473294          -0.616366 -0.661069   \n",
       "\n",
       "   hg/ha_yield  Area_Albania  Area_Algeria  Area_Angola  Area_Argentina  \\\n",
       "0        36613             1             0            0               0   \n",
       "1        66667             1             0            0               0   \n",
       "2        23333             1             0            0               0   \n",
       "3        12500             1             0            0               0   \n",
       "4         7000             1             0            0               0   \n",
       "\n",
       "   Area_Armenia  ...  Item_Cassava  Item_Maize  Item_Plantains and others  \\\n",
       "0             0  ...             0           1                          0   \n",
       "1             0  ...             0           0                          0   \n",
       "2             0  ...             0           0                          0   \n",
       "3             0  ...             0           0                          0   \n",
       "4             0  ...             0           0                          0   \n",
       "\n",
       "   Item_Potatoes  Item_Rice, paddy  Item_Sorghum  Item_Soybeans  \\\n",
       "0              0                 0             0              0   \n",
       "1              1                 0             0              0   \n",
       "2              0                 1             0              0   \n",
       "3              0                 0             1              0   \n",
       "4              0                 0             0              1   \n",
       "\n",
       "   Item_Sweet potatoes  Item_Wheat  Item_Yams  \n",
       "0                    0           0          0  \n",
       "1                    0           0          0  \n",
       "2                    0           0          0  \n",
       "3                    0           0          0  \n",
       "4                    0           0          0  \n",
       "\n",
       "[5 rows x 116 columns]"
      ]
     },
     "execution_count": 32,
     "metadata": {},
     "output_type": "execute_result"
    }
   ],
   "source": [
    "from sklearn.preprocessing import StandardScaler\n",
    "sc = StandardScaler()\n",
    "cols = ['Year','average_rain_fall_mm_per_year','pesticides_tonnes','avg_temp']\n",
    "df_ohe[cols]= sc.fit_transform(df_ohe[cols])\n",
    "df_ohe.head()"
   ]
  },
  {
   "cell_type": "code",
   "execution_count": 33,
   "id": "44556dc7",
   "metadata": {},
   "outputs": [
    {
     "data": {
      "text/html": [
       "<div>\n",
       "<style scoped>\n",
       "    .dataframe tbody tr th:only-of-type {\n",
       "        vertical-align: middle;\n",
       "    }\n",
       "\n",
       "    .dataframe tbody tr th {\n",
       "        vertical-align: top;\n",
       "    }\n",
       "\n",
       "    .dataframe thead th {\n",
       "        text-align: right;\n",
       "    }\n",
       "</style>\n",
       "<table border=\"1\" class=\"dataframe\">\n",
       "  <thead>\n",
       "    <tr style=\"text-align: right;\">\n",
       "      <th></th>\n",
       "      <th>Year</th>\n",
       "      <th>average_rain_fall_mm_per_year</th>\n",
       "      <th>pesticides_tonnes</th>\n",
       "      <th>avg_temp</th>\n",
       "      <th>Area_Albania</th>\n",
       "      <th>Area_Algeria</th>\n",
       "      <th>Area_Angola</th>\n",
       "      <th>Area_Argentina</th>\n",
       "      <th>Area_Armenia</th>\n",
       "      <th>Area_Australia</th>\n",
       "      <th>...</th>\n",
       "      <th>Item_Cassava</th>\n",
       "      <th>Item_Maize</th>\n",
       "      <th>Item_Plantains and others</th>\n",
       "      <th>Item_Potatoes</th>\n",
       "      <th>Item_Rice, paddy</th>\n",
       "      <th>Item_Sorghum</th>\n",
       "      <th>Item_Soybeans</th>\n",
       "      <th>Item_Sweet potatoes</th>\n",
       "      <th>Item_Wheat</th>\n",
       "      <th>Item_Yams</th>\n",
       "    </tr>\n",
       "  </thead>\n",
       "  <tbody>\n",
       "    <tr>\n",
       "      <th>0</th>\n",
       "      <td>-1.637075</td>\n",
       "      <td>0.473294</td>\n",
       "      <td>-0.616366</td>\n",
       "      <td>-0.661069</td>\n",
       "      <td>1</td>\n",
       "      <td>0</td>\n",
       "      <td>0</td>\n",
       "      <td>0</td>\n",
       "      <td>0</td>\n",
       "      <td>0</td>\n",
       "      <td>...</td>\n",
       "      <td>0</td>\n",
       "      <td>1</td>\n",
       "      <td>0</td>\n",
       "      <td>0</td>\n",
       "      <td>0</td>\n",
       "      <td>0</td>\n",
       "      <td>0</td>\n",
       "      <td>0</td>\n",
       "      <td>0</td>\n",
       "      <td>0</td>\n",
       "    </tr>\n",
       "    <tr>\n",
       "      <th>1</th>\n",
       "      <td>-1.637075</td>\n",
       "      <td>0.473294</td>\n",
       "      <td>-0.616366</td>\n",
       "      <td>-0.661069</td>\n",
       "      <td>1</td>\n",
       "      <td>0</td>\n",
       "      <td>0</td>\n",
       "      <td>0</td>\n",
       "      <td>0</td>\n",
       "      <td>0</td>\n",
       "      <td>...</td>\n",
       "      <td>0</td>\n",
       "      <td>0</td>\n",
       "      <td>0</td>\n",
       "      <td>1</td>\n",
       "      <td>0</td>\n",
       "      <td>0</td>\n",
       "      <td>0</td>\n",
       "      <td>0</td>\n",
       "      <td>0</td>\n",
       "      <td>0</td>\n",
       "    </tr>\n",
       "    <tr>\n",
       "      <th>2</th>\n",
       "      <td>-1.637075</td>\n",
       "      <td>0.473294</td>\n",
       "      <td>-0.616366</td>\n",
       "      <td>-0.661069</td>\n",
       "      <td>1</td>\n",
       "      <td>0</td>\n",
       "      <td>0</td>\n",
       "      <td>0</td>\n",
       "      <td>0</td>\n",
       "      <td>0</td>\n",
       "      <td>...</td>\n",
       "      <td>0</td>\n",
       "      <td>0</td>\n",
       "      <td>0</td>\n",
       "      <td>0</td>\n",
       "      <td>1</td>\n",
       "      <td>0</td>\n",
       "      <td>0</td>\n",
       "      <td>0</td>\n",
       "      <td>0</td>\n",
       "      <td>0</td>\n",
       "    </tr>\n",
       "    <tr>\n",
       "      <th>3</th>\n",
       "      <td>-1.637075</td>\n",
       "      <td>0.473294</td>\n",
       "      <td>-0.616366</td>\n",
       "      <td>-0.661069</td>\n",
       "      <td>1</td>\n",
       "      <td>0</td>\n",
       "      <td>0</td>\n",
       "      <td>0</td>\n",
       "      <td>0</td>\n",
       "      <td>0</td>\n",
       "      <td>...</td>\n",
       "      <td>0</td>\n",
       "      <td>0</td>\n",
       "      <td>0</td>\n",
       "      <td>0</td>\n",
       "      <td>0</td>\n",
       "      <td>1</td>\n",
       "      <td>0</td>\n",
       "      <td>0</td>\n",
       "      <td>0</td>\n",
       "      <td>0</td>\n",
       "    </tr>\n",
       "    <tr>\n",
       "      <th>4</th>\n",
       "      <td>-1.637075</td>\n",
       "      <td>0.473294</td>\n",
       "      <td>-0.616366</td>\n",
       "      <td>-0.661069</td>\n",
       "      <td>1</td>\n",
       "      <td>0</td>\n",
       "      <td>0</td>\n",
       "      <td>0</td>\n",
       "      <td>0</td>\n",
       "      <td>0</td>\n",
       "      <td>...</td>\n",
       "      <td>0</td>\n",
       "      <td>0</td>\n",
       "      <td>0</td>\n",
       "      <td>0</td>\n",
       "      <td>0</td>\n",
       "      <td>0</td>\n",
       "      <td>1</td>\n",
       "      <td>0</td>\n",
       "      <td>0</td>\n",
       "      <td>0</td>\n",
       "    </tr>\n",
       "  </tbody>\n",
       "</table>\n",
       "<p>5 rows × 115 columns</p>\n",
       "</div>"
      ],
      "text/plain": [
       "       Year  average_rain_fall_mm_per_year  pesticides_tonnes  avg_temp  \\\n",
       "0 -1.637075                       0.473294          -0.616366 -0.661069   \n",
       "1 -1.637075                       0.473294          -0.616366 -0.661069   \n",
       "2 -1.637075                       0.473294          -0.616366 -0.661069   \n",
       "3 -1.637075                       0.473294          -0.616366 -0.661069   \n",
       "4 -1.637075                       0.473294          -0.616366 -0.661069   \n",
       "\n",
       "   Area_Albania  Area_Algeria  Area_Angola  Area_Argentina  Area_Armenia  \\\n",
       "0             1             0            0               0             0   \n",
       "1             1             0            0               0             0   \n",
       "2             1             0            0               0             0   \n",
       "3             1             0            0               0             0   \n",
       "4             1             0            0               0             0   \n",
       "\n",
       "   Area_Australia  ...  Item_Cassava  Item_Maize  Item_Plantains and others  \\\n",
       "0               0  ...             0           1                          0   \n",
       "1               0  ...             0           0                          0   \n",
       "2               0  ...             0           0                          0   \n",
       "3               0  ...             0           0                          0   \n",
       "4               0  ...             0           0                          0   \n",
       "\n",
       "   Item_Potatoes  Item_Rice, paddy  Item_Sorghum  Item_Soybeans  \\\n",
       "0              0                 0             0              0   \n",
       "1              1                 0             0              0   \n",
       "2              0                 1             0              0   \n",
       "3              0                 0             1              0   \n",
       "4              0                 0             0              1   \n",
       "\n",
       "   Item_Sweet potatoes  Item_Wheat  Item_Yams  \n",
       "0                    0           0          0  \n",
       "1                    0           0          0  \n",
       "2                    0           0          0  \n",
       "3                    0           0          0  \n",
       "4                    0           0          0  \n",
       "\n",
       "[5 rows x 115 columns]"
      ]
     },
     "execution_count": 33,
     "metadata": {},
     "output_type": "execute_result"
    }
   ],
   "source": [
    "y = df_ohe['hg/ha_yield']\n",
    "X= df_ohe.drop('hg/ha_yield',axis=1)\n",
    "X.head()"
   ]
  },
  {
   "cell_type": "markdown",
   "id": "66733e69",
   "metadata": {},
   "source": [
    "<h2> Modeling "
   ]
  },
  {
   "cell_type": "code",
   "execution_count": 34,
   "id": "ba4ce422",
   "metadata": {},
   "outputs": [],
   "source": [
    "from sklearn.model_selection import train_test_split\n",
    "x_train , x_test, y_train , y_test = train_test_split(X, y ,test_size=0.3, random_state=42)"
   ]
  },
  {
   "cell_type": "code",
   "execution_count": 35,
   "id": "081f00e1",
   "metadata": {},
   "outputs": [],
   "source": [
    "from sklearn.ensemble import RandomForestRegressor\n",
    "from sklearn.ensemble import GradientBoostingRegressor\n",
    "from sklearn.tree import DecisionTreeRegressor\n",
    "from sklearn.metrics import r2_score"
   ]
  },
  {
   "cell_type": "code",
   "execution_count": 36,
   "id": "ba25c693",
   "metadata": {},
   "outputs": [
    {
     "data": {
      "text/plain": [
       "0.978691312724889"
      ]
     },
     "execution_count": 36,
     "metadata": {},
     "output_type": "execute_result"
    }
   ],
   "source": [
    "dt = DecisionTreeRegressor()\n",
    "dt.fit(x_train , y_train)\n",
    "y_pred = dt.predict(x_test)\n",
    "score = r2_score(y_test,y_pred)\n",
    "score"
   ]
  },
  {
   "cell_type": "code",
   "execution_count": 37,
   "id": "7f8c825d",
   "metadata": {},
   "outputs": [
    {
     "data": {
      "text/plain": [
       "0.9635782905032044"
      ]
     },
     "execution_count": 37,
     "metadata": {},
     "output_type": "execute_result"
    }
   ],
   "source": [
    "gbr=GradientBoostingRegressor(n_estimators=300, max_depth=5, random_state=0)\n",
    "gbr.fit(x_train , y_train)\n",
    "y_pred = gbr.predict(x_test)\n",
    "score = r2_score(y_test,y_pred)\n",
    "score"
   ]
  },
  {
   "cell_type": "code",
   "execution_count": 38,
   "id": "8b81cac5",
   "metadata": {},
   "outputs": [
    {
     "data": {
      "text/plain": [
       "0.8170027476313629"
      ]
     },
     "execution_count": 38,
     "metadata": {},
     "output_type": "execute_result"
    }
   ],
   "source": [
    "rf =RandomForestRegressor(n_estimators=300, max_depth=5, random_state=0)\n",
    "rf.fit(x_train , y_train)\n",
    "y_pred = rf.predict(x_test)\n",
    "score = r2_score(y_test,y_pred)\n",
    "score"
   ]
  }
 ],
 "metadata": {
  "kernelspec": {
   "display_name": "Python 3",
   "language": "python",
   "name": "python3"
  },
  "language_info": {
   "codemirror_mode": {
    "name": "ipython",
    "version": 3
   },
   "file_extension": ".py",
   "mimetype": "text/x-python",
   "name": "python",
   "nbconvert_exporter": "python",
   "pygments_lexer": "ipython3",
   "version": "3.8.8"
  }
 },
 "nbformat": 4,
 "nbformat_minor": 5
}
